{
  "nbformat": 4,
  "nbformat_minor": 0,
  "metadata": {
    "colab": {
      "provenance": [],
      "private_outputs": true,
      "include_colab_link": true
    },
    "kernelspec": {
      "name": "python3",
      "display_name": "Python 3"
    },
    "language_info": {
      "name": "python"
    }
  },
  "cells": [
    {
      "cell_type": "markdown",
      "metadata": {
        "id": "view-in-github",
        "colab_type": "text"
      },
      "source": [
        "<a href=\"https://colab.research.google.com/github/lulari425/Aiffel_Quest/blob/main/Python_quest/Quest03/PythonQuest03.ipynb\" target=\"_parent\"><img src=\"https://colab.research.google.com/assets/colab-badge.svg\" alt=\"Open In Colab\"/></a>"
      ]
    },
    {
      "cell_type": "markdown",
      "source": [
        "# [파이썬] 퀘스트: 클로저를 활용한 문제해결하기\n",
        "\n",
        "난이도: ★★★★☆  \n",
        "장르: nonlocal, 클로저, 데코레이터 활용  \n",
        "\n",
        "---\n",
        "\n",
        "\n"
      ],
      "metadata": {
        "id": "sPRcyZsPorCm"
      }
    },
    {
      "cell_type": "markdown",
      "source": [
        "## 문제 1. 최댓값과 최솟값 찾기\n",
        "\n"
      ],
      "metadata": {
        "id": "Dh2vcnApr4VI"
      }
    },
    {
      "cell_type": "markdown",
      "source": [
        "조건:  \n",
        "* 주어진 리스트의 최댓값과 최솟값을 반환하는 클로저 함수를 완성해 주세요.\n",
        "    * 주어진 숫자 리스트 numbers에 대해 find_min_max 함수를 호출하면 find_min과 find_max 함수를 얻을 수 있습니다.\n",
        "    * find_min() 함수를 호출하면 최솟값을, find_max()함수를 호출하면 최댓값을 반환합니다.\n",
        "    * 클로저를 사용하여 min_value와 max_value 변수를 외부에 노출하지 않고도 최솟값과 최대값을 찾을 수 있습니다.\n",
        "    * find_min_max 함수가 호출된 이후에도 find_min과 find_max 함수를 통해 min_value와 max_value 변수에 접근할 수 있습니다.\n",
        "* 주석으로 구현 내용이 써있는 부분을 코드로 채워주세요.\n",
        "---\n",
        "입력:\n",
        "```python\n",
        "numbers = [10, 5, 8, 12, 3, 7]\n",
        "find_min, find_max = find_min_max(numbers)\n",
        "\n",
        "print(\"최솟값:\", find_min())  \n",
        "print(\"최댓값:\", find_max())  \n",
        "```\n",
        "---\n",
        "출력:\n",
        "```\n",
        "3\n",
        "12\n",
        "```\n"
      ],
      "metadata": {
        "id": "d-vXJztpvFD-"
      }
    },
    {
      "cell_type": "code",
      "source": [
        "def find_min_max(numbers):\n",
        "    # min_value와 max_value 변수를 초기화\n",
        "    # min_value는 양의 무한대(float('inf'))로 초기화하여 어떤 숫자보다도 큰 값으로 설정\n",
        "    min_value = float('inf')\n",
        "    # print(\"min_value:\", min_value)\n",
        "    # max_value는 음의 무한대(float('-inf'))로 초기화하여 어떤 숫자보다도 작은 값으로 설정\n",
        "    max_value = float('-inf')\n",
        "\n",
        "    def update_min_max(num):\n",
        "        # 외부함수의 변수인 min_value, max_value 참조\n",
        "        # 수정 : global  외부 변수에 접근 사용하여 오류 , nonlocal 내부 함수에서 외부 함수의 변수를 참조\n",
        "        nonlocal  min_value,max_value\n",
        "        # 만약 num 값이 min_value보다 작다면 min_value를 num 값으로 변경\n",
        "        # print(\"num < min_value:\", num)\n",
        "        # print(\"num < min_value:\", min_value)\n",
        "        if num < min_value :\n",
        "           min_value = num\n",
        "          #  print(\"***:\", min_value)\n",
        "        # 만약 num 값이 max_value보다 크다면 max_value를 num 값으로 변경\n",
        "        if num > max_value :\n",
        "           max_value = num\n",
        "          #  print(\"***@@@ :\", max_value)\n",
        "    # numbers 리스트의 모든 값을 순환하며 최댓값과 최솟값 업데이트\n",
        "    for num in numbers:\n",
        "        update_min_max(num)\n",
        "\n",
        "    # 최솟값을 반환하는 내부함수\n",
        "    def get_min():\n",
        "        return min_value\n",
        "\n",
        "    # 최댓값을 반환하는 내부함수\n",
        "    def get_max():\n",
        "        return max_value\n",
        "\n",
        "\n",
        "    # 외부함수는 내부함수(get_min()과 get_max())를 반환\n",
        "    # 수정 : 처음엔 get_min()과 get_max()를 호출하였지만, 하단의 오류 발생하여 () 를 제거하니 됨\n",
        "    #\n",
        "    #     TypeError                                 Traceback (most recent call last)\n",
        "    # <ipython-input-4-f4d3d571eba9> in <cell line: 38>()\n",
        "    #      36 find_min, find_max = find_min_max(numbers)\n",
        "    #      37\n",
        "    # ---> 38 print(\"최솟값:\", find_min())  # 3\n",
        "    #      39 print(\"최댓값:\", find_max())  # 12\n",
        "\n",
        "    # TypeError: 'int' object is not callable\n",
        "    # chatGpt 참조 : () 포함된 코드에서는 get_min()와 get_max() 함수를 호출하여 반환된 값을 반환하게 됩니다. 이는 실제로 최솟값과 최댓값을 반환하게 됩니다.\n",
        "    #                () 제거된  코드는 get_min과 get_max 함수 객체를 반환합니다. 이를 통해 반환된 함수를 나중에 호출하여 최솟값과 최댓값을 얻을 수 있습니다.\n",
        "    return get_min, get_max\n",
        "\n",
        "numbers = [10, 5, 8, 12, 3, 7]\n",
        "# 위의 return 오류를 해결하기 위하여 하단의 코드를 나눠서 수정하기도함\n",
        "# find_min = find_min_max(numbers)\n",
        "# find_max = find_min_max(numbers)\n",
        "# TypeError: 'tuple' object is not callable 오류 발생\n",
        "find_min, find_max = find_min_max(numbers)\n",
        "\n",
        "print(\"최솟값:\", find_min())  # 3\n",
        "print(\"최댓값:\", find_max())  # 12\n"
      ],
      "metadata": {
        "id": "oF_uYyS2jjPj"
      },
      "execution_count": null,
      "outputs": []
    },
    {
      "cell_type": "markdown",
      "source": [
        "## 문제 2. 함수의 호출 횟수를 세는 데코레이터"
      ],
      "metadata": {
        "id": "d3XECsmXwES5"
      }
    },
    {
      "cell_type": "code",
      "source": [],
      "metadata": {
        "id": "osnx8AC8CZUk"
      },
      "execution_count": null,
      "outputs": []
    },
    {
      "cell_type": "markdown",
      "source": [
        "지난 시간에 배운 데코레이터를 기억하시나요? 데코레이터도 내부함수를 반환하는 클로저를 활용한 문법입니다. 클로저를 활용하여 함수 호출 횟수를 출력하는 데코레이터를 만들어봅시다.\n",
        "\n",
        "조건:\n",
        "* 함수가 실행될 때 마다 함수 이름과 실행 횟수를 출력하는 데코레이터 `counter` 만들기  \n",
        "\n",
        "힌트:\n",
        "* 데코레이터의 내부 함수(클로저)는 실행횟수를 기억하기 위해 외부 함수의 변수를 참조 해야 합니다\n",
        "* 함수의 이름은 `함수이름.__name__`으로 접근할 수 있습니다.\n",
        "\n",
        "---\n",
        "입력:\n",
        "```python\n",
        "@counter\n",
        "def say_hello():\n",
        "    print(\"Hello Aiffel!\")\n",
        "\n",
        "for i in range(5):\n",
        "    say_hello()\n",
        "```\n",
        "---\n",
        "출력:\n",
        "```\n",
        "Hello Aiffel!\n",
        "say_hello 실행횟수: 1\n",
        "Hello Aiffel!\n",
        "say_hello 실행횟수: 2\n",
        "Hello Aiffel!\n",
        "say_hello 실행횟수: 3\n",
        "Hello Aiffel!\n",
        "say_hello 실행횟수: 4\n",
        "Hello Aiffel!\n",
        "say_hello 실행횟수: 5\n",
        "```"
      ],
      "metadata": {
        "id": "HTdH6DkVvJMF"
      }
    },
    {
      "cell_type": "code",
      "source": [
        "# i를 참조하여 작성하였고, 원하는 결과값이 나오지만\n",
        "# chatGpt  피드백 : i 변수가 정의되지 않아 NameError가 발생할 수 있습니다.\n",
        "# 함수 호출 횟수를 유지하기 위해 클로저를 사용해야 합니다. 이를 위해 nonlocal 키워드를 사용하여 외부 함수의 변수를 참조하는 방법을 사용합니다.\n",
        "def counter(fn):\n",
        "    def deco_hello():\n",
        "        fn()               # 기존 함수 호출\n",
        "        #print(fn.__name__)\n",
        "        print(\"say_hello 실행횟수 :\",i+1 )    # 기능 추가\n",
        "    return deco_hello\n",
        "\n",
        "@counter\n",
        "def say_hello():\n",
        "    print(\"Hello Aiffel!\")\n",
        "\n",
        "for i in range(5):\n",
        "    say_hello()"
      ],
      "metadata": {
        "id": "FjZIkFg2G6bQ"
      },
      "execution_count": null,
      "outputs": []
    },
    {
      "cell_type": "markdown",
      "source": [
        "# *문제 2. 함수의 호출 횟수를 세는 데코레이터*    **완성된 코드**"
      ],
      "metadata": {
        "id": "flG_yP_nVXqe"
      }
    },
    {
      "cell_type": "code",
      "source": [
        "# 위의 코드는 i 변수가 정의되지 않아 NameError가 발생하기에 카운트 변수를 호출하는 코드로 변경\n",
        "def counter(fn):\n",
        "    count = 0 # 함수 호출 횟수를 저장하는 변수\n",
        "    def deco_hello():\n",
        "        nonlocal count #내부함수에서 외부 함수 count 변수 호출\n",
        "        count += 1\n",
        "        fn()               # 기존 함수 호출\n",
        "        #print(fn.__name__) # 기존 함수 명 맞는지 확인\n",
        "        print(fn.__name__, \"실행횟수 :\",count )    # 실행횟수 카운트\n",
        "    return deco_hello\n",
        "\n",
        "@counter\n",
        "def say_hello():\n",
        "    print(\"Hello Aiffel!\")\n",
        "\n",
        "for i in range(5):\n",
        "    say_hello()"
      ],
      "metadata": {
        "id": "UxSa8LizMLIR"
      },
      "execution_count": null,
      "outputs": []
    },
    {
      "cell_type": "markdown",
      "source": [
        "#회고\n",
        "- 1번 문제는 주석만을 참고하여 코드를 추가하니 순조롭게 코드를 구현 할 수 있었으나 함수를 반환하는 곳에 함수뒤에 괄호를 () 추가하니 오류가 나서 gpt 님의 도움을 받아봄.\n",
        "아래의 피드백으로 오류 원인을 알 수 있었습니다.\n",
        " () 포함된 코드에서는 함수를 호출하여 반환된 값을 반환하게 됩니다. 이는 실제로 최솟값과 최댓값을 반환하게 됩니다.\n",
        " () 제거된  코드는 get_min과 get_max 함수 객체를 반환합니다. 이를 통해 반환된 함수를 나중에 호출하여 최솟값과 최댓값을 얻을 수 있습니다.\n",
        "\n",
        " - nonlocal 과 global 개념이 아직 헷갈립니다.. 관련된 문제 예시를 자주 확인해야겠습니다.\n",
        "\n",
        "- 2번 문제는 처음에는 데코레이터 기능만 추가하여 지정되지 않은 i를 추가하여  코랩에서는 오류가 없었지만, gpt 에서는 변수가 지정 안되어있기에 NameError가 발생할 수 있다하여 count 변수를 추가하여 다시 코드를 구현하였습니다.\n",
        " - 이전에 하드코딩을 지양하여야하는 것이 맞다고 배웠는데 문제 조건에 맞게 fn.__name__ 함수의 이름을 호출하는 방법으로 변경하였습니다."
      ],
      "metadata": {
        "id": "eYJbJEIpVrKz"
      }
    }
  ]
}