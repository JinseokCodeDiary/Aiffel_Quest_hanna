{
 "cells": [
  {
   "cell_type": "markdown",
   "id": "0f16f4c3",
   "metadata": {},
   "source": [
    "# 포켓몬 데이터셋 분석 보고서\n",
    "\n",
    "**개요**\n",
    "이 보고서는 포켓몬 데이터셋을 이용한 데이터 전처리, 베이스라인 모델 학습, 비교 모델 학습 과정을 포함한 실습 내용을 다룹니다. 데이터 전처리 과정에서 데이터를 분석 가능한 형태로 정제하고, 베이스라인 모델과 비교 모델을 학습시켜 그 성능을 평가 및 비교하였습니다.\n",
    "\n",
    "**목차**\n",
    "1. 데이터 전처리\n",
    "- 데이터셋 로드 및 초기 탐색\n",
    "- 결측치 처리\n",
    "- 문자열 데이터 전처리\n",
    "- 범주형 데이터 원-핫 인코딩\n",
    "- 추가 특성 엔지니어링\n",
    "2. 베이스라인 모델 학습 성공 및 비교분석\n",
    "- 베이스라인 모델 정의 및 학습\n",
    "- 베이스라인 모델 평가\n",
    "- 결과 분석\n",
    "3. 비교 모델 학습 성공 및 비교분석\n",
    "- 비교 모델 정의 및 학습\n",
    "- 비교 모델 평가\n",
    "- 결과 분석\n",
    "4. Summary\n",
    "5. 회고\n",
    "6. Reference"
   ]
  },
  {
   "cell_type": "markdown",
   "id": "862520a7",
   "metadata": {},
   "source": [
    "1. 데이터 전처리\n",
    "- 데이터셋 로드 및 초기 탐색\n",
    "먼저, 포켓몬 데이터셋을 로드하고 초기 탐색을 통해 데이터의 구조와 기본 통계를 파악했습니다."
   ]
  },
  {
   "cell_type": "code",
   "execution_count": 2,
   "id": "a2b4d137",
   "metadata": {},
   "outputs": [
    {
     "name": "stdout",
     "output_type": "stream",
     "text": [
      "(800, 13)\n",
      "   #                   Name Type 1  Type 2  Total  HP  Attack  Defense  \\\n",
      "0  1              Bulbasaur  Grass  Poison    318  45      49       49   \n",
      "1  2                Ivysaur  Grass  Poison    405  60      62       63   \n",
      "2  3               Venusaur  Grass  Poison    525  80      82       83   \n",
      "3  3  VenusaurMega Venusaur  Grass  Poison    625  80     100      123   \n",
      "4  4             Charmander   Fire     NaN    309  39      52       43   \n",
      "\n",
      "   Sp. Atk  Sp. Def  Speed  Generation  Legendary  \n",
      "0       65       65     45           1      False  \n",
      "1       80       80     60           1      False  \n",
      "2      100      100     80           1      False  \n",
      "3      122      120     80           1      False  \n",
      "4       60       50     65           1      False  \n"
     ]
    }
   ],
   "source": [
    "import pandas as pd\n",
    "import os\n",
    " \n",
    "\n",
    "# 데이터셋 로드\n",
    "csv_path = os.getenv(\"HOME\") +\"/aiffel/pokemon_eda/data/Pokemon.csv\"\n",
    "pokemon = pd.read_csv(csv_path) \n",
    "\n",
    "# 데이터셋 기본 정보 확인\n",
    "print(pokemon.shape)\n",
    "print(pokemon.head())"
   ]
  },
  {
   "cell_type": "markdown",
   "id": "725ad20f",
   "metadata": {},
   "source": [
    "- 결측치 처리\n",
    "데이터셋에서 결측치가 존재하는지 확인하고 적절한 방법으로 처리했습니다."
   ]
  },
  {
   "cell_type": "code",
   "execution_count": 3,
   "id": "194bb6aa",
   "metadata": {},
   "outputs": [
    {
     "name": "stdout",
     "output_type": "stream",
     "text": [
      "#               0\n",
      "Name            0\n",
      "Type 1          0\n",
      "Type 2        386\n",
      "Total           0\n",
      "HP              0\n",
      "Attack          0\n",
      "Defense         0\n",
      "Sp. Atk         0\n",
      "Sp. Def         0\n",
      "Speed           0\n",
      "Generation      0\n",
      "Legendary       0\n",
      "dtype: int64\n"
     ]
    }
   ],
   "source": [
    "# 결측치 확인\n",
    "print(pokemon.isnull().sum())\n",
    "\n",
    "# 결측치 처리 (예: Type 2의 결측치는 'None'으로 대체)\n",
    "pokemon['Type 2'].fillna('None', inplace=True)\n"
   ]
  },
  {
   "cell_type": "markdown",
   "id": "1604c1c2",
   "metadata": {},
   "source": [
    "- 문자열 데이터 전처리\n",
    "포켓몬 이름에서 유용한 정보를 추출하기 위해 이름의 길이와 특정 토큰 포함 여부를 새로운 특성으로 추가했습니다."
   ]
  },
  {
   "cell_type": "code",
   "execution_count": 19,
   "id": "a9cb3666",
   "metadata": {},
   "outputs": [],
   "source": [
    "# 이름의 길이 추가\n",
    "pokemon['name_count'] = pokemon['Name'].apply(len)\n",
    "\n",
    "# 특정 토큰 포함 여부 추가\n",
    "pokemon['long_name'] = pokemon['name_count'] >= 10\n",
    "\n",
    "# 자주 등장하는 토큰 컬럼 추가\n",
    "from collections import Counter\n",
    "\n",
    "# 예시 토큰 추가\n",
    "pokemon['Forme'] = pokemon['Name'].str.contains(\"Forme\")\n",
    "\n",
    "# 필요한 컬럼 생성\n",
    "tokens = ['Mega', 'Mewtwo', 'Deoxys', 'Kyurem', 'Latias', 'Latios', 'Kyogre', 'Groudon', 'Hoopa']\n",
    "for token in tokens:\n",
    "    pokemon[token] = pokemon['Name'].str.contains(token)\n"
   ]
  },
  {
   "cell_type": "markdown",
   "id": "2b0b00a4",
   "metadata": {},
   "source": [
    "- 범주형 데이터 원-핫 인코딩\n",
    "범주형 데이터인 Type 1과 Type 2를 원-핫 인코딩하여 처리했습니다."
   ]
  },
  {
   "cell_type": "code",
   "execution_count": 6,
   "id": "3dcea84c",
   "metadata": {},
   "outputs": [],
   "source": [
    "# 원-핫 인코딩\n",
    "types = list(set(pokemon['Type 1'].unique()).union(set(pokemon['Type 2'].unique())))\n",
    "for t in types:\n",
    "    pokemon[t] = (pokemon['Type 1'] == t) | (pokemon['Type 2'] == t)\n"
   ]
  },
  {
   "cell_type": "markdown",
   "id": "c678ad78",
   "metadata": {},
   "source": [
    "- 추가 특성 엔지니어링\n",
    "앞서 전처리한 데이터를 활용하여 모델 학습에 사용할 최종 특성들을 정의했습니다."
   ]
  },
  {
   "cell_type": "code",
   "execution_count": 7,
   "id": "28573adf",
   "metadata": {},
   "outputs": [],
   "source": [
    "# 최종 특성 리스트\n",
    "features = ['Total', 'HP', 'Attack', 'Defense', 'Sp. Atk', 'Sp. Def', 'Speed', 'Generation', 'name_count', 'long_name', 'Forme']\n",
    "target = 'Legendary'\n",
    "X = pokemon[features]\n",
    "y = pokemon[target]\n"
   ]
  },
  {
   "cell_type": "markdown",
   "id": "3c7dbead",
   "metadata": {},
   "source": [
    "2. 베이스라인 모델 학습 성공 및 비교분석\n",
    "베이스라인 모델 정의 및 학습\n",
    "베이스라인 모델로 의사 결정 트리를 사용하여 학습시켰습니다."
   ]
  },
  {
   "cell_type": "code",
   "execution_count": 8,
   "id": "dcd6a2ef",
   "metadata": {},
   "outputs": [],
   "source": [
    "from sklearn.tree import DecisionTreeClassifier\n",
    "from sklearn.model_selection import train_test_split\n",
    "\n",
    "# 데이터 분리\n",
    "X_train, X_test, y_train, y_test = train_test_split(X, y, test_size=0.2, random_state=15)\n",
    "\n",
    "# 모델 정의 및 학습\n",
    "baseline_model = DecisionTreeClassifier(random_state=25)\n",
    "baseline_model.fit(X_train, y_train)\n",
    "\n",
    "# 예측\n",
    "y_pred_baseline = baseline_model.predict(X_test)\n",
    " "
   ]
  },
  {
   "cell_type": "markdown",
   "id": "d1ff19ec",
   "metadata": {},
   "source": [
    "- 베이스라인 모델 평가\n",
    "베이스라인 모델의 성능을 평가하기 위해 혼동 행렬과 분류 리포트를 사용했습니다."
   ]
  },
  {
   "cell_type": "code",
   "execution_count": 9,
   "id": "7efcbed0",
   "metadata": {},
   "outputs": [
    {
     "name": "stdout",
     "output_type": "stream",
     "text": [
      "[[143   4]\n",
      " [  3  10]]\n",
      "              precision    recall  f1-score   support\n",
      "\n",
      "       False       0.98      0.97      0.98       147\n",
      "        True       0.71      0.77      0.74        13\n",
      "\n",
      "    accuracy                           0.96       160\n",
      "   macro avg       0.85      0.87      0.86       160\n",
      "weighted avg       0.96      0.96      0.96       160\n",
      "\n"
     ]
    }
   ],
   "source": [
    "from sklearn.metrics import confusion_matrix, classification_report\n",
    "\n",
    "# 혼동 행렬\n",
    "conf_matrix_baseline = confusion_matrix(y_test, y_pred_baseline)\n",
    "print(conf_matrix_baseline)\n",
    "\n",
    "# 분류 리포트\n",
    "print(classification_report(y_test, y_pred_baseline))\n"
   ]
  },
  {
   "cell_type": "code",
   "execution_count": 12,
   "id": "65d9ae54",
   "metadata": {},
   "outputs": [
    {
     "data": {
      "image/png": "[encoded data removed]",
      "text/plain": [
       "<Figure size 576x432 with 2 Axes>"
      ]
     },
     "metadata": {
      "needs_background": "light"
     },
     "output_type": "display_data"
    }
   ],
   "source": [
    "import seaborn as sns\n",
    "import matplotlib.pyplot as plt\n",
    "\n",
    "# 혼동 행렬 시각화\n",
    "plt.figure(figsize=(8, 6))\n",
    "sns.heatmap(conf_matrix_baseline, annot=True, fmt='d', cmap='Blues')\n",
    "plt.xlabel('Predicted')\n",
    "plt.ylabel('Actual')\n",
    "plt.title('Confusion Matrix - Baseline Model')\n",
    "plt.show()"
   ]
  },
  {
   "cell_type": "code",
   "execution_count": null,
   "id": "519cfebd",
   "metadata": {},
   "outputs": [],
   "source": [
    "- 결과 분석\n",
    "베이스라인 모델의 성능은 정확도가 높았지만, 불균형 데이터셋에서의 한계가 있음을 확인했습니다.\n",
    "예를 들어, 전설의 포켓몬을 일반 포켓몬으로 잘못 분류하는 경우가 많았습니다."
   ]
  },
  {
   "cell_type": "markdown",
   "id": "2fee15c8",
   "metadata": {},
   "source": [
    "3. 비교 모델 학습 성공 및 비교분석\n",
    "- 비교 모델 정의 및 학습\n",
    "전처리된 데이터를 사용하여 의사 결정 트리 모델을 다시 학습시켰습니다."
   ]
  },
  {
   "cell_type": "code",
   "execution_count": 10,
   "id": "1ad0d987",
   "metadata": {},
   "outputs": [],
   "source": [
    "# 모델 정의 및 학습\n",
    "improved_model = DecisionTreeClassifier(random_state=25)\n",
    "improved_model.fit(X_train, y_train)\n",
    "\n",
    "# 예측\n",
    "y_pred_improved = improved_model.predict(X_test)\n",
    " "
   ]
  },
  {
   "cell_type": "markdown",
   "id": "c8019727",
   "metadata": {},
   "source": [
    "- 비교 모델 평가\n",
    "개선된 모델의 성능을 평가했습니다."
   ]
  },
  {
   "cell_type": "code",
   "execution_count": 11,
   "id": "a1138e6d",
   "metadata": {},
   "outputs": [
    {
     "name": "stdout",
     "output_type": "stream",
     "text": [
      "[[143   4]\n",
      " [  3  10]]\n",
      "              precision    recall  f1-score   support\n",
      "\n",
      "       False       0.98      0.97      0.98       147\n",
      "        True       0.71      0.77      0.74        13\n",
      "\n",
      "    accuracy                           0.96       160\n",
      "   macro avg       0.85      0.87      0.86       160\n",
      "weighted avg       0.96      0.96      0.96       160\n",
      "\n"
     ]
    }
   ],
   "source": [
    "# 혼동 행렬\n",
    "conf_matrix_improved = confusion_matrix(y_test, y_pred_improved)\n",
    "print(conf_matrix_improved)\n",
    "\n",
    "# 분류 리포트\n",
    "print(classification_report(y_test, y_pred_improved))\n"
   ]
  },
  {
   "cell_type": "code",
   "execution_count": 13,
   "id": "23743360",
   "metadata": {},
   "outputs": [
    {
     "data": {
      "image/png": "[encoded data removed]",
      "text/plain": [
       "<Figure size 576x432 with 2 Axes>"
      ]
     },
     "metadata": {
      "needs_background": "light"
     },
     "output_type": "display_data"
    }
   ],
   "source": [
    "# 혼동 행렬 시각화\n",
    "plt.figure(figsize=(8, 6))\n",
    "sns.heatmap(conf_matrix_improved, annot=True, fmt='d', cmap='Blues')\n",
    "plt.xlabel('Predicted')\n",
    "plt.ylabel('Actual')\n",
    "plt.title('Confusion Matrix - Improved Model')\n",
    "plt.show()"
   ]
  },
  {
   "cell_type": "markdown",
   "id": "071ca532",
   "metadata": {},
   "source": [
    "- 시각화된 성능 비교\n",
    "베이스라인 모델과 비교 모델의 성능을 시각적으로 비교하여 차이를 명확히 합니다."
   ]
  },
  {
   "cell_type": "code",
   "execution_count": 20,
   "id": "7451622b",
   "metadata": {},
   "outputs": [
    {
     "data": {
      "image/png": "[encoded data removed]",
      "text/plain": [
       "<Figure size 720x360 with 1 Axes>"
      ]
     },
     "metadata": {
      "needs_background": "light"
     },
     "output_type": "display_data"
    },
    {
     "data": {
      "image/png": "[encoded data removed]",
      "text/plain": [
       "<Figure size 864x360 with 4 Axes>"
      ]
     },
     "metadata": {
      "needs_background": "light"
     },
     "output_type": "display_data"
    },
    {
     "name": "stdout",
     "output_type": "stream",
     "text": [
      "Baseline Model Classification Report:\n",
      "              precision    recall  f1-score   support\n",
      "\n",
      "       False       0.97      0.98      0.97       147\n",
      "        True       0.73      0.62      0.67        13\n",
      "\n",
      "    accuracy                           0.95       160\n",
      "   macro avg       0.85      0.80      0.82       160\n",
      "weighted avg       0.95      0.95      0.95       160\n",
      "\n",
      "Improved Model Classification Report:\n",
      "              precision    recall  f1-score   support\n",
      "\n",
      "       False       0.99      0.96      0.98       147\n",
      "        True       0.67      0.92      0.77        13\n",
      "\n",
      "    accuracy                           0.96       160\n",
      "   macro avg       0.83      0.94      0.87       160\n",
      "weighted avg       0.97      0.96      0.96       160\n",
      "\n"
     ]
    }
   ],
   "source": [
    "# 베이스라인 모델 특성\n",
    "baseline_features = ['Total', 'HP', 'Attack', 'Defense', 'Sp. Atk', 'Sp. Def', 'Speed', 'Generation']\n",
    "X_baseline = pokemon[baseline_features]\n",
    "y_baseline = pokemon['Legendary']\n",
    "\n",
    "# 베이스라인 데이터 분리\n",
    "X_train_baseline, X_test_baseline, y_train_baseline, y_test_baseline = train_test_split(X_baseline, y_baseline, test_size=0.2, random_state=15)\n",
    "\n",
    "# 베이스라인 모델 학습\n",
    "baseline_model = DecisionTreeClassifier(random_state=25)\n",
    "baseline_model.fit(X_train_baseline, y_train_baseline)\n",
    "y_pred_baseline = baseline_model.predict(X_test_baseline)\n",
    "\n",
    "# 개선된 모델 특성\n",
    "improved_features = baseline_features + ['name_count', 'long_name'] + tokens + ['Poison', 'Ground', 'Flying', 'Normal', 'Water', 'Fire', 'Electric', 'Rock', 'Dark', 'Fairy', 'Steel', 'Ghost', 'Psychic', 'Ice', 'Bug', 'Grass', 'Dragon', 'Fighting']\n",
    "X_improved = pokemon[improved_features]\n",
    "y_improved = pokemon['Legendary']\n",
    "\n",
    "# 개선된 모델 데이터 분리\n",
    "X_train_improved, X_test_improved, y_train_improved, y_test_improved = train_test_split(X_improved, y_improved, test_size=0.2, random_state=15)\n",
    "\n",
    "# 개선된 모델 학습\n",
    "improved_model = DecisionTreeClassifier(random_state=25)\n",
    "improved_model.fit(X_train_improved, y_train_improved)\n",
    "y_pred_improved = improved_model.predict(X_test_improved)\n",
    "\n",
    "# 성능 평가 지표\n",
    "baseline_scores = [accuracy_score(y_test_baseline, y_pred_baseline), precision_score(y_test_baseline, y_pred_baseline), recall_score(y_test_baseline, y_pred_baseline), f1_score(y_test_baseline, y_pred_baseline)]\n",
    "improved_scores = [accuracy_score(y_test_improved, y_pred_improved), precision_score(y_test_improved, y_pred_improved), recall_score(y_test_improved, y_pred_improved), f1_score(y_test_improved, y_pred_improved)]\n",
    "\n",
    "# 성능 비교 시각화\n",
    "labels = ['Accuracy', 'Precision', 'Recall', 'F1 Score']\n",
    "x = np.arange(len(labels))\n",
    "\n",
    "plt.figure(figsize=(10, 5))\n",
    "plt.bar(x - 0.2, baseline_scores, width=0.4, label='Baseline Model')\n",
    "plt.bar(x + 0.2, improved_scores, width=0.4, label='Improved Model')\n",
    "\n",
    "plt.xlabel('Metrics')\n",
    "plt.ylabel('Scores')\n",
    "plt.title('Model Performance Comparison')\n",
    "plt.xticks(x, labels)\n",
    "plt.legend()\n",
    "plt.show()\n",
    "\n",
    "# 혼동 행렬 시각화\n",
    "conf_matrix_baseline = confusion_matrix(y_test_baseline, y_pred_baseline)\n",
    "conf_matrix_improved = confusion_matrix(y_test_improved, y_pred_improved)\n",
    "\n",
    "plt.figure(figsize=(12, 5))\n",
    "\n",
    "plt.subplot(1, 2, 1)\n",
    "sns.heatmap(conf_matrix_baseline, annot=True, fmt='d', cmap='Blues')\n",
    "plt.title('Confusion Matrix - Baseline Model')\n",
    "plt.xlabel('Predicted')\n",
    "plt.ylabel('Actual')\n",
    "\n",
    "plt.subplot(1, 2, 2)\n",
    "sns.heatmap(conf_matrix_improved, annot=True, fmt='d', cmap='Blues')\n",
    "plt.title('Confusion Matrix - Improved Model')\n",
    "plt.xlabel('Predicted')\n",
    "plt.ylabel('Actual')\n",
    "\n",
    "plt.show()\n",
    "\n",
    "# 분류 리포트 출력\n",
    "print(\"Baseline Model Classification Report:\")\n",
    "print(classification_report(y_test_baseline, y_pred_baseline))\n",
    "\n",
    "print(\"Improved Model Classification Report:\")\n",
    "print(classification_report(y_test_improved, y_pred_improved))"
   ]
  },
  {
   "cell_type": "code",
   "execution_count": null,
   "id": "434b5727",
   "metadata": {},
   "outputs": [],
   "source": [
    "- 성능 지표 변화\n",
    "a. 정확도 (Accuracy): 개선된 모델의 정확도가 베이스라인 모델보다 높아졌습니다.\n",
    "b. 정밀도 (Precision): 개선된 모델의 정밀도가 베이스라인 모델보다 낮아졌습니다.\n",
    "c. 재현율 (Recall): 개선된 모델의 재현율이 베이스라인 모델보다 크게 향상되었습니다.\n",
    "d. F1 점수 (F1 Score): 개선된 모델의 F1 점수가 베이스라인 모델보다 높아졌습니다."
   ]
  },
  {
   "cell_type": "markdown",
   "id": "1593b61b",
   "metadata": {},
   "source": [
    "- 결과 분석\n",
    "개선된 모델의 성능이 크게 향상되었음을 확인했습니다. 특히, recall 값이 크게 개선되었습니다.이는 전처리를 통해 얻은 추가 정보들이 모델의 예측 성능을 향상시키는 데 기여했음을 의미합니다"
   ]
  },
  {
   "cell_type": "markdown",
   "id": "651c41f3",
   "metadata": {},
   "source": [
    "4. Summary\n",
    "이번 분석에서는 포켓몬 데이터셋을 활용하여 전처리 과정을 거쳐 베이스라인 모델과 비교 모델을 학습시키고 성능을 평가했습니다. 전처리를 통해 모델의 성능을 크게 향상시킬 수 있음을 확인했습니다."
   ]
  },
  {
   "cell_type": "markdown",
   "id": "dd85feeb",
   "metadata": {},
   "source": [
    "5. 회고\n",
    "이번 실습을 통해 데이터 전처리의 중요성과 모델 성능 평가의 다양한 지표 사용의 필요성을 배웠습니다. 불균형 데이터셋에서의 모델 평가 방법을 고민해볼 수 있었습니다. 첫 시도때는 성능지표의 차이가 없어 시각화된 성능 비교를 추가하여 혼동 행렬과 분류 리포트 시각화를 추가로 포함하여 모델 성능을 보다 종합적으로 평가합니다."
   ]
  },
  {
   "cell_type": "markdown",
   "id": "19d8315e",
   "metadata": {},
   "source": [
    "6. Reference\n",
    "- Seaborn Documentation: http://seaborn.pydata.org/\n",
    "- Scikit-learn Documentation: http://scikit-learn.org/stable/documentation.html "
   ]
  }
 ],
 "metadata": {
  "kernelspec": {
   "display_name": "Python 3 (ipykernel)",
   "language": "python",
   "name": "python3"
  },
  "language_info": {
   "codemirror_mode": {
    "name": "ipython",
    "version": 3
   },
   "file_extension": ".py",
   "mimetype": "text/x-python",
   "name": "python",
   "nbconvert_exporter": "python",
   "pygments_lexer": "ipython3",
   "version": "3.9.7"
  }
 },
 "nbformat": 4,
 "nbformat_minor": 5
}
